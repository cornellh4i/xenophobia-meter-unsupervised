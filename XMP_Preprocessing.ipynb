{
  "cells": [
    {
      "cell_type": "code",
      "execution_count": 61,
      "metadata": {
        "colab": {
          "base_uri": "https://localhost:8080/"
        },
        "id": "A94_TKYZzn_T",
        "outputId": "581467ab-3dcd-4919-f137-346e5c9cedde"
      },
      "outputs": [
        {
          "output_type": "stream",
          "name": "stdout",
          "text": [
            "Drive already mounted at /content/drive; to attempt to forcibly remount, call drive.mount(\"/content/drive\", force_remount=True).\n"
          ]
        }
      ],
      "source": [
        "from google.colab import drive\n",
        "drive.mount('/content/drive')"
      ]
    },
    {
      "cell_type": "code",
      "execution_count": 62,
      "metadata": {
        "id": "j68O97oMv-4o",
        "colab": {
          "base_uri": "https://localhost:8080/"
        },
        "outputId": "23eed45c-1c5b-432d-b193-bc70823e4eef"
      },
      "outputs": [
        {
          "output_type": "stream",
          "name": "stdout",
          "text": [
            "Looking in indexes: https://pypi.org/simple, https://us-python.pkg.dev/colab-wheels/public/simple/\n",
            "Requirement already satisfied: contractions in /usr/local/lib/python3.7/dist-packages (0.1.72)\n",
            "Requirement already satisfied: textsearch>=0.0.21 in /usr/local/lib/python3.7/dist-packages (from contractions) (0.0.24)\n",
            "Requirement already satisfied: pyahocorasick in /usr/local/lib/python3.7/dist-packages (from textsearch>=0.0.21->contractions) (1.4.4)\n",
            "Requirement already satisfied: anyascii in /usr/local/lib/python3.7/dist-packages (from textsearch>=0.0.21->contractions) (0.3.1)\n",
            "Looking in indexes: https://pypi.org/simple, https://us-python.pkg.dev/colab-wheels/public/simple/\n",
            "Requirement already satisfied: emoji in /usr/local/lib/python3.7/dist-packages (2.2.0)\n"
          ]
        }
      ],
      "source": [
        "# ALL MODULES\n",
        "import pandas as pd\n",
        "import nltk as nl \n",
        "import re\n",
        "!pip install contractions\n",
        "!pip install emoji --upgrade\n",
        "from emoji import demojize\n",
        "import contractions\n",
        "from typing import List"
      ]
    },
    {
      "cell_type": "markdown",
      "source": [
        "# **Step 1 - Merge all csv files** \n",
        "- merge csv files using pandas\n",
        "- drop all columns except column\n",
        "- turn object into a pandas dataframe"
      ],
      "metadata": {
        "id": "o529-tpxlnjQ"
      }
    },
    {
      "cell_type": "code",
      "execution_count": 63,
      "metadata": {
        "id": "_LTp596MynWv"
      },
      "outputs": [],
      "source": [
        "# merging all csv files\n",
        "files =  ['/content/drive/MyDrive/XMP Preprocessing/AAAJ AAJC Cleaned - Final.csv', \n",
        "                      '/content/drive/MyDrive/XMP Preprocessing/AILANational Cleaned - Final.csv',\n",
        "                      '/content/drive/MyDrive/XMP Preprocessing/BAJItweet Cleaned - Final.csv', \n",
        "                      '/content/drive/MyDrive/XMP Preprocessing/BreitbartNews Cleaned - Final.csv', \n",
        "                      '/content/drive/MyDrive/XMP Preprocessing/FAIRImmigration Cleaned - Final.csv', \n",
        "                      '/content/drive/MyDrive/XMP Preprocessing/ICEgov Cleaned - Final.csv', \n",
        "                      '/content/drive/MyDrive/XMP Preprocessing/IngrahamAngle Cleaned - Final.csv',\n",
        "                      '/content/drive/MyDrive/XMP Preprocessing/StatePRM Cleaned - Final.csv',\n",
        "                      '/content/drive/MyDrive/XMP Preprocessing/TuckerCarlson Cleaned - Final.csv',\n",
        "                      '/content/drive/MyDrive/XMP Preprocessing/UNHCRUSA Cleaned - Final.csv', \n",
        "                      '/content/drive/MyDrive/XMP Preprocessing/splcenter Cleaned - Final.csv'] \n",
        "\n",
        "df = pd.concat(\n",
        "    map(pd.read_csv, files), ignore_index=True)\n",
        "df = df['Content']\n",
        "df = df.to_frame()"
      ]
    },
    {
      "cell_type": "code",
      "source": [
        "print(df.head(20))"
      ],
      "metadata": {
        "colab": {
          "base_uri": "https://localhost:8080/"
        },
        "id": "FbpTL83DjxRB",
        "outputId": "38344ca4-0b18-4d4d-ff21-feb16c08ad7f"
      },
      "execution_count": 64,
      "outputs": [
        {
          "output_type": "stream",
          "name": "stdout",
          "text": [
            "                                              Content\n",
            "0   -16,000 Southeast Asian Americans have receive...\n",
            "1   .@AALDEF’s Jerry Vattamala on how to combat vo...\n",
            "2   .@ActToChange, an org focused on addressing bu...\n",
            "3   .@CAIRNational’s @NihadAwad emphasizes that Pr...\n",
            "4   .@CaryChow_, our master of ceremonies, kicks o...\n",
            "5   .@CaryChow_: “This is an organization that we ...\n",
            "6   .@CaryChow: “The American Courage Awards honor...\n",
            "7   .@defineamerican, @staymacro, @colorofchange, ...\n",
            "8   .@DefineAmerican's new video series is spreadi...\n",
            "9   .@gabriellexgem of @GeorgetownCPT highlights i...\n",
            "10  .@HouseJudiciary is marking up the #NOBANAct t...\n",
            "11  .@IAmAmnaNawaz to @governorcalvo: Why are you ...\n",
            "12  .@IlhanMN delivering powerful remarks during t...\n",
            "13  .@JoeBiden says he will give small businesses ...\n",
            "14  .@johncyangdc notes that if you are able to, b...\n",
            "15  .@johncyangdc says there are dangerous consequ...\n",
            "16  .@johncyangdc: “A new dawn requires all of us ...\n",
            "17  .@johncyangdc: “Nothing is possible without th...\n",
            "18  .@maritaetc is joining @NationalAction's Commi...\n",
            "19  .@NYGovCuomo must know AAPI community needs va...\n"
          ]
        }
      ]
    },
    {
      "cell_type": "markdown",
      "source": [
        "# **Step 2: Clean corpus with regular expressions**\n",
        "- remove spaces\n",
        "- remove urls\n",
        "- remove numbers\n",
        "- remove handles\n",
        "- remove emojis"
      ],
      "metadata": {
        "id": "O_K8gZ9nmUU2"
      }
    },
    {
      "cell_type": "code",
      "execution_count": 65,
      "metadata": {
        "id": "zrHdXmQC1W65"
      },
      "outputs": [],
      "source": [
        "def preprocess_tweet(tweet: str) -> str:\n",
        "    \"\"\"\n",
        "    Performs Twitter-specific pre-processing steps.\n",
        "    We do not remove punctuation right now because that would remove hashtags.\n",
        "    \"\"\"\n",
        "\n",
        "    space_regex = r'\\s+'\n",
        "    url_regex = r\"\\w+:\\/\\/\\S+\"\n",
        "    space_regex = r'\\s+'\n",
        "    number_regex = r'\\d+'\n",
        "    # handle_regex = r\"@[\\w\\d_]+\"\n",
        "    handle_regex = r\"@[\\S]+\" # matches all characters except whitespace\n",
        "    \n",
        "    \n",
        "    # replace long whitespace with single space\n",
        "    cleaned_tweet = re.sub(space_regex, ' ', tweet)\n",
        "    cleaned_tweet = re.sub(url_regex, '', cleaned_tweet)  # remove urls\n",
        "    # remove user handles\n",
        "    cleaned_tweet = re.sub(handle_regex, '', cleaned_tweet)\n",
        "    cleaned_tweet = re.sub(number_regex, '', cleaned_tweet)  # remove numbers\n",
        "    cleaned_tweet = demojize(cleaned_tweet)       # demojize\n",
        "\n",
        "    cleaned_tweet = contractions.fix(cleaned_tweet).lower()\n",
        "    return cleaned_tweet"
      ]
    },
    {
      "cell_type": "code",
      "source": [
        "import nltk\n",
        "nltk.download('wordnet')\n",
        "nltk.download('omw-1.4')\n",
        "for index, row in df.iterrows():\n",
        "  df.at[index,'Content']=preprocess_tweet(row[\"Content\"])"
      ],
      "metadata": {
        "colab": {
          "base_uri": "https://localhost:8080/"
        },
        "id": "jszyrMeU02aG",
        "outputId": "e4ac52b3-eacf-4c2b-db15-0377a99e7b55"
      },
      "execution_count": 66,
      "outputs": [
        {
          "output_type": "stream",
          "name": "stderr",
          "text": [
            "[nltk_data] Downloading package wordnet to /root/nltk_data...\n",
            "[nltk_data]   Package wordnet is already up-to-date!\n",
            "[nltk_data] Downloading package omw-1.4 to /root/nltk_data...\n",
            "[nltk_data]   Package omw-1.4 is already up-to-date!\n"
          ]
        }
      ]
    },
    {
      "cell_type": "code",
      "source": [
        "print(df.head(30))"
      ],
      "metadata": {
        "colab": {
          "base_uri": "https://localhost:8080/"
        },
        "id": "e_dV0czOjrKH",
        "outputId": "d5e9ec40-d15d-42f6-8346-af45f90338a6"
      },
      "execution_count": 67,
      "outputs": [
        {
          "output_type": "stream",
          "name": "stdout",
          "text": [
            "                                              Content\n",
            "0   -, southeast asian americans have received fin...\n",
            "1   . jerry vattamala on how to combat voter suppr...\n",
            "2   . an org focused on addressing bullying in the...\n",
            "3   .  emphasizes that president trump was clear t...\n",
            "4   . our master of ceremonies, kicks off tonight’...\n",
            "5   . “this is an organization that we need now mo...\n",
            "6   . “the american courage awards honor living le...\n",
            "7            .     +  are partnering to bring you t… \n",
            "8   . new video series is spreading good news! the...\n",
            "9   . of  highlights in  that the increasing sophi...\n",
            "10  . is marking up the #nobanact this morning whi...\n",
            "11  . to  why are you here [at #aapitownhall] inst...\n",
            "12  . delivering powerful remarks during the #repe...\n",
            "13  . says he will give small businesses a restart...\n",
            "14  . notes that if you are able to, bystander int...\n",
            "15  . says there are dangerous consequences for as...\n",
            "16  . “a new dawn requires all of us as informed c...\n",
            "17  . “nothing is possible without the staff at  g...\n",
            "18  . is joining  commitment march this friday to ...\n",
            "19  . must know aapi community needs vary. just lo...\n",
            "20  . explains how food binds the asian american c...\n",
            "21  . asian americans could not be more timely wit...\n",
            "22  . introduced a resolution to urge congress to ...\n",
            "23  . is looking into the possibility of creating ...\n",
            "24  . thank you for your work for our immigrant co...\n",
            "25  . \"as the daughter of immigrants, i am committ...\n",
            "26  . also emphasizes that this virus does not dis...\n",
            "27  . \"we will be quoting heavily from this report...\n",
            "28  . encourages us to speak out and report hate i...\n",
            "29  . introduced the #reunitingfamiliesact to impr...\n"
          ]
        }
      ]
    },
    {
      "cell_type": "markdown",
      "source": [
        "# **Step 3: Tokenize Tweets**\n",
        "- tokenize tweets using tweet tokenizer\n",
        "- lemmatize \n"
      ],
      "metadata": {
        "id": "eFHvgWpUm0Lz"
      }
    },
    {
      "cell_type": "code",
      "execution_count": 68,
      "metadata": {
        "id": "daGMz2HiopiJ"
      },
      "outputs": [],
      "source": [
        "def tokenize(tweet: str, method: str = \"tweet\") -> List[str]:\n",
        "    \"\"\"\n",
        "    Returns tokens of a tweet, tokenized using a specified method, with all the tokens stemmed.\n",
        "    tweet is a string\n",
        "    method is a string\n",
        "    \"\"\"\n",
        "\n",
        "    from nltk.stem import WordNetLemmatizer\n",
        "    from nltk.tokenize import TweetTokenizer, word_tokenize\n",
        "    from nltk.stem import PorterStemmer\n",
        "    import emoji\n",
        "    import string\n",
        "      \n",
        "    lemmatizer = WordNetLemmatizer()\n",
        "\n",
        "    tokens = []\n",
        "    if method == \"tweet\":\n",
        "        tweet_tokenizer = TweetTokenizer()\n",
        "        tokens = tweet_tokenizer.tokenize(tweet)\n",
        "    elif method == \"word\":\n",
        "        tokens = word_tokenize(tweet)\n",
        "\n",
        "    # remove tokens that are just punctuation\n",
        "\n",
        "    # ***TODO: append other excluded ASCII values to string.punctuation***\n",
        "    punctuation_list = [punct for punct in string.punctuation]\n",
        "    punctuation_list.append(['’', '“'])\n",
        "    tokens_punctuation_removed = [\n",
        "        t for t in tokens if t not in punctuation_list]\n",
        "        \n",
        "    # remove emojis\n",
        "    # tokens_emojis_removed = [\n",
        "    #     t for t in tokens_punctuation_removed if t not in emoji.UNICODE_EMOJI]\n",
        "\n",
        "    # uncomment to perform stemming\n",
        "    # return [PorterStemmer().stem(t) for t in tokens_punctuation_removed]\n",
        "\n",
        "    return [lemmatizer.lemmatize(w) for w in tokens_punctuation_removed]"
      ]
    },
    {
      "cell_type": "code",
      "execution_count": 69,
      "metadata": {
        "id": "cvVwWkt7ouJJ"
      },
      "outputs": [],
      "source": [
        "for index, row in df.iterrows():\n",
        "  df.at[index,'Content']=tokenize(row[\"Content\"])"
      ]
    },
    {
      "cell_type": "code",
      "execution_count": 70,
      "metadata": {
        "id": "qtRaw8FBsLLE",
        "colab": {
          "base_uri": "https://localhost:8080/"
        },
        "outputId": "02a99ad1-ef61-4749-a524-483d58c4e969"
      },
      "outputs": [
        {
          "output_type": "stream",
          "name": "stdout",
          "text": [
            "                                              Content\n",
            "0   [southeast, asian, american, have, received, f...\n",
            "1   [jerry, vattamala, on, how, to, combat, voter,...\n",
            "2   [an, org, focused, on, addressing, bullying, i...\n",
            "3   [emphasizes, that, president, trump, wa, clear...\n",
            "4   [our, master, of, ceremony, kick, off, tonight...\n",
            "5   [“, this, is, an, organization, that, we, need...\n",
            "6   [“, the, american, courage, award, honor, livi...\n",
            "7             [are, partnering, to, bring, you, t, …]\n",
            "8   [new, video, series, is, spreading, good, news...\n",
            "9   [of, highlight, in, that, the, increasing, sop...\n",
            "10  [is, marking, up, the, #nobanact, this, mornin...\n",
            "11  [to, why, are, you, here, at, #aapitownhall, i...\n",
            "12  [delivering, powerful, remark, during, the, #r...\n",
            "13  [say, he, will, give, small, business, a, rest...\n",
            "14  [note, that, if, you, are, able, to, bystander...\n",
            "15  [say, there, are, dangerous, consequence, for,...\n",
            "16  [“, a, new, dawn, requires, all, of, u, a, inf...\n",
            "17  [“, nothing, is, possible, without, the, staff...\n",
            "18  [is, joining, commitment, march, this, friday,...\n",
            "19  [must, know, aapi, community, need, vary, just...\n"
          ]
        }
      ],
      "source": [
        "print(df.head(20))"
      ]
    },
    {
      "cell_type": "markdown",
      "source": [
        "# **Step 4: Remove apostrophes with Regular expressions**\n",
        "- note: initially handles were of the form '@akin's', so removing handles\n",
        "left us with \"'s\", now remove apostrophe leaves us with just \"S\", is this import\n",
        "ant enough to affect our model?"
      ],
      "metadata": {
        "id": "cYbngSg6nLOq"
      }
    },
    {
      "cell_type": "code",
      "source": [
        "def remove_apostrophe(tweet):\n",
        "  special_character_regex = r'[^\\w ]'\n",
        "  cleaned = ''\n",
        "  result = []\n",
        "  if tweet:\n",
        "    for word in tweet:\n",
        "      cleaned =  re.sub(special_character_regex, '', word)\n",
        "      # if cleaned == 's':\n",
        "      #   cleaned = ''\n",
        "      if len(cleaned) != 0:\n",
        "        result.append(cleaned)\n",
        "    return result\n"
      ],
      "metadata": {
        "id": "JDI6qzP92MCj"
      },
      "execution_count": 81,
      "outputs": []
    },
    {
      "cell_type": "code",
      "source": [
        "for index, row in df.iterrows():\n",
        "  df.at[index,'Content']=remove_apostrophe(row[\"Content\"])"
      ],
      "metadata": {
        "id": "N1goDirT2w3I"
      },
      "execution_count": 82,
      "outputs": []
    },
    {
      "cell_type": "code",
      "source": [
        "print(df.head(10))"
      ],
      "metadata": {
        "colab": {
          "base_uri": "https://localhost:8080/"
        },
        "id": "LrZ3DAqTy5ce",
        "outputId": "cebff5c1-9176-4738-b38a-2a97d36f4969"
      },
      "execution_count": 83,
      "outputs": [
        {
          "output_type": "stream",
          "name": "stdout",
          "text": [
            "                                             Content\n",
            "0  [southeast, asian, american, have, received, f...\n",
            "1  [jerry, vattamala, on, how, to, combat, voter,...\n",
            "2  [an, org, focused, on, addressing, bullying, i...\n",
            "3  [emphasizes, that, president, trump, wa, clear...\n",
            "4  [our, master, of, ceremony, kick, off, tonight...\n",
            "5  [this, is, an, organization, that, we, need, n...\n",
            "6  [the, american, courage, award, honor, living,...\n",
            "7               [are, partnering, to, bring, you, t]\n",
            "8  [new, video, series, is, spreading, good, news...\n",
            "9  [of, highlight, in, that, the, increasing, sop...\n"
          ]
        }
      ]
    },
    {
      "cell_type": "code",
      "source": [
        "# Remove Null values\n",
        "df.fillna(\"\", inplace = True)"
      ],
      "metadata": {
        "id": "s1mkOnnJiT9C"
      },
      "execution_count": 84,
      "outputs": []
    },
    {
      "cell_type": "markdown",
      "source": [
        "## **Step 5: Vectorization**"
      ],
      "metadata": {
        "id": "V8YBf9uKnqBn"
      }
    },
    {
      "cell_type": "code",
      "execution_count": 85,
      "metadata": {
        "id": "x4PxvOdPKR9r"
      },
      "outputs": [],
      "source": [
        "from gensim.models import Word2Vec\n",
        "\n",
        "df_to_list = df['Content'].values.tolist()\n",
        "model = Word2Vec(df_to_list, min_count=1)\n",
        "words = list(model.wv.vocab)\n",
        "model.save('model.bin')\n"
      ]
    },
    {
      "cell_type": "code",
      "source": [
        "print(words[:5])"
      ],
      "metadata": {
        "colab": {
          "base_uri": "https://localhost:8080/"
        },
        "id": "kNE9L9REitqR",
        "outputId": "0d850d44-828f-4593-eb82-6d78874e97f1"
      },
      "execution_count": 86,
      "outputs": [
        {
          "output_type": "stream",
          "name": "stdout",
          "text": [
            "['southeast', 'asian', 'american', 'have', 'received']\n"
          ]
        }
      ]
    },
    {
      "cell_type": "code",
      "source": [
        "# Vector for one word. \n",
        "print(model['southeast'])"
      ],
      "metadata": {
        "colab": {
          "base_uri": "https://localhost:8080/"
        },
        "id": "PvKkfQGBi8e6",
        "outputId": "e9ca5762-203e-4327-ece4-053dd7d87c62"
      },
      "execution_count": 87,
      "outputs": [
        {
          "output_type": "stream",
          "name": "stdout",
          "text": [
            "[ 1.62197530e-01  2.99967509e-02  8.01915303e-02 -1.84992850e-01\n",
            "  1.52879372e-01  1.46462783e-01  1.78950801e-01 -2.77674454e-03\n",
            " -1.16996653e-01  2.10370034e-01 -1.32246828e-02 -4.76248637e-02\n",
            " -1.09977446e-01 -1.83286279e-01 -1.08680181e-01 -3.92990299e-02\n",
            "  2.87073385e-02  9.07207001e-03  1.02128768e-02 -8.56663361e-02\n",
            "  1.89500734e-01  4.53253789e-03  1.48733318e-01 -5.21294326e-02\n",
            "  3.75941545e-02  8.72624889e-02  2.37064809e-01  9.13538933e-02\n",
            " -2.22490534e-01 -6.00189320e-04  8.33612978e-02  3.28411236e-02\n",
            " -1.60499156e-01 -2.81124599e-02  1.34038553e-01  9.90708843e-02\n",
            " -1.01821765e-01 -1.21854454e-01 -1.71489287e-02 -3.43834050e-02\n",
            "  1.80137411e-01 -7.56904259e-02 -6.69967458e-02 -1.98585778e-01\n",
            "  4.49130051e-02 -7.82805085e-02  1.62760820e-02 -2.40153708e-02\n",
            "  2.21939221e-01  6.95375055e-02  2.32298180e-01  2.35306799e-01\n",
            " -1.52346420e-05 -1.14239328e-01  7.47065339e-03  5.48920818e-02\n",
            "  2.37045243e-01 -2.42370382e-01  3.18573788e-02  6.41127825e-02\n",
            "  3.71848866e-02  5.80401123e-02  7.78816687e-03  9.59785059e-02\n",
            " -4.74614231e-03 -6.81302324e-02  1.23792052e-01  6.06448874e-02\n",
            "  2.25010306e-01  3.02807480e-01 -1.31919444e-01 -2.77274072e-01\n",
            " -1.41609654e-01 -1.26521036e-01 -2.33883914e-02 -1.16285600e-01\n",
            "  1.61732927e-01  9.14076567e-02  2.33297750e-01 -6.44919574e-02\n",
            "  1.22401081e-01 -1.25592656e-03 -6.62571639e-02 -8.40881318e-02\n",
            "  2.11233586e-01  4.53189686e-02 -2.20354438e-01  1.56389534e-01\n",
            " -1.14637747e-01 -8.45557451e-02  1.02297805e-01  3.46263163e-02\n",
            "  8.31616372e-02  7.59896189e-02 -1.87882513e-01 -1.94921866e-02\n",
            " -2.20122747e-02  6.69043809e-02 -1.42405003e-01 -4.46253978e-02]\n"
          ]
        },
        {
          "output_type": "stream",
          "name": "stderr",
          "text": [
            "/usr/local/lib/python3.7/dist-packages/ipykernel_launcher.py:2: DeprecationWarning: Call to deprecated `__getitem__` (Method will be removed in 4.0.0, use self.wv.__getitem__() instead).\n",
            "  \n"
          ]
        }
      ]
    },
    {
      "cell_type": "code",
      "source": [
        "from sklearn.decomposition import PCA\n",
        "import matplotlib.pyplot as plt\n",
        "\n",
        "data = model[model.wv.vocab]\n",
        "\n",
        "pca = PCA(n_components=2)\n",
        "result = pca.fit_transform(data)\n"
      ],
      "metadata": {
        "id": "OgDRumbfUvxX",
        "colab": {
          "base_uri": "https://localhost:8080/"
        },
        "outputId": "410ba612-8ff1-43b9-d113-48f9b7727dba"
      },
      "execution_count": 88,
      "outputs": [
        {
          "output_type": "stream",
          "name": "stderr",
          "text": [
            "/usr/local/lib/python3.7/dist-packages/ipykernel_launcher.py:4: DeprecationWarning: Call to deprecated `__getitem__` (Method will be removed in 4.0.0, use self.wv.__getitem__() instead).\n",
            "  after removing the cwd from sys.path.\n"
          ]
        }
      ]
    },
    {
      "cell_type": "code",
      "source": [
        "# Create Scatter plot to visualize words\n",
        "plt.scatter(result[:20, 0], result[:20, 1])\n",
        "words = list(model.wv.vocab)\n",
        "for i, word in enumerate(words[:20]):\n",
        "  plt.annotate(word, xy=(result[i, 0], result[i,1]))\n",
        "plt.show()"
      ],
      "metadata": {
        "id": "DO2s-zmnSbG3",
        "colab": {
          "base_uri": "https://localhost:8080/",
          "height": 265
        },
        "outputId": "7b8595fd-7616-4b18-b38a-0810ae6f3c45"
      },
      "execution_count": 89,
      "outputs": [
        {
          "output_type": "display_data",
          "data": {
            "text/plain": [
              "<Figure size 432x288 with 1 Axes>"
            ],
            "image/png": "[encoded data removed]"
          },
          "metadata": {
            "needs_background": "light"
          }
        }
      ]
    },
    {
      "cell_type": "code",
      "source": [
        "# Pickle dataframe\n",
        "df.to_pickle('/content/drive/MyDrive/XMP Preprocessing/cleaned_data.pkl')"
      ],
      "metadata": {
        "id": "11bm9wHhkWBU"
      },
      "execution_count": 90,
      "outputs": []
    }
  ],
  "metadata": {
    "colab": {
      "collapsed_sections": [],
      "provenance": []
    },
    "kernelspec": {
      "display_name": "Python 3",
      "name": "python3"
    },
    "language_info": {
      "name": "python"
    }
  },
  "nbformat": 4,
  "nbformat_minor": 0
}