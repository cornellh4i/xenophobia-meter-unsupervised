{
  "cells": [
    {
      "cell_type": "code",
      "execution_count": null,
      "metadata": {
        "colab": {
          "base_uri": "https://localhost:8080/"
        },
        "id": "A94_TKYZzn_T",
        "outputId": "1a68f791-2b60-4ce9-d062-f0188ab46b2c"
      },
      "outputs": [
        {
          "output_type": "stream",
          "name": "stdout",
          "text": [
            "Mounted at /content/drive\n"
          ]
        }
      ],
      "source": [
        "from google.colab import drive\n",
        "drive.mount('/content/drive')"
      ]
    },
    {
      "cell_type": "code",
      "execution_count": null,
      "metadata": {
        "id": "j68O97oMv-4o",
        "colab": {
          "base_uri": "https://localhost:8080/"
        },
        "outputId": "85f2ec89-f46b-480f-f8e5-03026a62aac4"
      },
      "outputs": [
        {
          "output_type": "stream",
          "name": "stdout",
          "text": [
            "Looking in indexes: https://pypi.org/simple, https://us-python.pkg.dev/colab-wheels/public/simple/\n",
            "Collecting contractions\n",
            "  Downloading contractions-0.1.73-py2.py3-none-any.whl (8.7 kB)\n",
            "Collecting textsearch>=0.0.21\n",
            "  Downloading textsearch-0.0.24-py2.py3-none-any.whl (7.6 kB)\n",
            "Collecting anyascii\n",
            "  Downloading anyascii-0.3.1-py3-none-any.whl (287 kB)\n",
            "\u001b[K     |████████████████████████████████| 287 kB 4.0 MB/s \n",
            "\u001b[?25hCollecting pyahocorasick\n",
            "  Downloading pyahocorasick-1.4.4-cp38-cp38-manylinux_2_17_x86_64.manylinux2014_x86_64.whl (110 kB)\n",
            "\u001b[K     |████████████████████████████████| 110 kB 78.4 MB/s \n",
            "\u001b[?25hInstalling collected packages: pyahocorasick, anyascii, textsearch, contractions\n",
            "Successfully installed anyascii-0.3.1 contractions-0.1.73 pyahocorasick-1.4.4 textsearch-0.0.24\n",
            "Looking in indexes: https://pypi.org/simple, https://us-python.pkg.dev/colab-wheels/public/simple/\n",
            "Collecting emoji\n",
            "  Downloading emoji-2.2.0.tar.gz (240 kB)\n",
            "\u001b[K     |████████████████████████████████| 240 kB 4.1 MB/s \n",
            "\u001b[?25hBuilding wheels for collected packages: emoji\n",
            "  Building wheel for emoji (setup.py) ... \u001b[?25l\u001b[?25hdone\n",
            "  Created wheel for emoji: filename=emoji-2.2.0-py3-none-any.whl size=234926 sha256=1d8298635c2f48861ab1aafd6a453b2a274fab9d7c059d7a26d4f8bc173026f3\n",
            "  Stored in directory: /root/.cache/pip/wheels/86/62/9e/a6b27a681abcde69970dbc0326ff51955f3beac72f15696984\n",
            "Successfully built emoji\n",
            "Installing collected packages: emoji\n",
            "Successfully installed emoji-2.2.0\n"
          ]
        }
      ],
      "source": [
        "# ALL MODULES\n",
        "import pandas as pd\n",
        "import nltk as nl \n",
        "import re\n",
        "!pip install contractions\n",
        "!pip install emoji --upgrade\n",
        "from emoji import demojize\n",
        "import contractions\n",
        "from typing import List"
      ]
    },
    {
      "cell_type": "markdown",
      "source": [
        "# **Step 1 - Merge all csv files** \n",
        "- merge csv files using pandas\n",
        "- drop all columns except column\n",
        "- turn object into a pandas dataframe"
      ],
      "metadata": {
        "id": "o529-tpxlnjQ"
      }
    },
    {
      "cell_type": "code",
      "execution_count": null,
      "metadata": {
        "id": "_LTp596MynWv"
      },
      "outputs": [],
      "source": [
        "# merging all csv files\n",
        "files =  ['/content/drive/MyDrive/XMP Preprocessing/AAAJ AAJC Cleaned - Final.csv', \n",
        "                      '/content/drive/MyDrive/XMP Preprocessing/AILANational Cleaned - Final.csv',\n",
        "                      '/content/drive/MyDrive/XMP Preprocessing/BAJItweet Cleaned - Final.csv', \n",
        "                      '/content/drive/MyDrive/XMP Preprocessing/BreitbartNews Cleaned - Final.csv', \n",
        "                      '/content/drive/MyDrive/XMP Preprocessing/FAIRImmigration Cleaned - Final.csv', \n",
        "                      '/content/drive/MyDrive/XMP Preprocessing/ICEgov Cleaned - Final.csv', \n",
        "                      '/content/drive/MyDrive/XMP Preprocessing/IngrahamAngle Cleaned - Final.csv',\n",
        "                      '/content/drive/MyDrive/XMP Preprocessing/StatePRM Cleaned - Final.csv',\n",
        "                      '/content/drive/MyDrive/XMP Preprocessing/TuckerCarlson Cleaned - Final.csv',\n",
        "                      '/content/drive/MyDrive/XMP Preprocessing/UNHCRUSA Cleaned - Final.csv', \n",
        "                      '/content/drive/MyDrive/XMP Preprocessing/splcenter Cleaned - Final.csv'] \n",
        "\n",
        "df = pd.concat(\n",
        "    map(pd.read_csv, files), ignore_index=True)\n",
        "df = df['Content']\n",
        "df = df.to_frame()"
      ]
    },
    {
      "cell_type": "code",
      "source": [
        "print(df.head(20))"
      ],
      "metadata": {
        "id": "FbpTL83DjxRB",
        "colab": {
          "base_uri": "https://localhost:8080/"
        },
        "outputId": "8c92ee8a-f9fa-4d2a-c152-ecada3ce5f99"
      },
      "execution_count": null,
      "outputs": [
        {
          "output_type": "stream",
          "name": "stdout",
          "text": [
            "                                              Content\n",
            "0   -16,000 Southeast Asian Americans have receive...\n",
            "1   .@AALDEF’s Jerry Vattamala on how to combat vo...\n",
            "2   .@ActToChange, an org focused on addressing bu...\n",
            "3   .@CAIRNational’s @NihadAwad emphasizes that Pr...\n",
            "4   .@CaryChow_, our master of ceremonies, kicks o...\n",
            "5   .@CaryChow_: “This is an organization that we ...\n",
            "6   .@CaryChow: “The American Courage Awards honor...\n",
            "7   .@defineamerican, @staymacro, @colorofchange, ...\n",
            "8   .@DefineAmerican's new video series is spreadi...\n",
            "9   .@gabriellexgem of @GeorgetownCPT highlights i...\n",
            "10  .@HouseJudiciary is marking up the #NOBANAct t...\n",
            "11  .@IAmAmnaNawaz to @governorcalvo: Why are you ...\n",
            "12  .@IlhanMN delivering powerful remarks during t...\n",
            "13  .@JoeBiden says he will give small businesses ...\n",
            "14  .@johncyangdc notes that if you are able to, b...\n",
            "15  .@johncyangdc says there are dangerous consequ...\n",
            "16  .@johncyangdc: “A new dawn requires all of us ...\n",
            "17  .@johncyangdc: “Nothing is possible without th...\n",
            "18  .@maritaetc is joining @NationalAction's Commi...\n",
            "19  .@NYGovCuomo must know AAPI community needs va...\n"
          ]
        }
      ]
    },
    {
      "cell_type": "code",
      "source": [
        "print(df.head(1).values.tolist())"
      ],
      "metadata": {
        "colab": {
          "base_uri": "https://localhost:8080/"
        },
        "id": "k94iMQf5Eta0",
        "outputId": "1f8e2550-42b7-401e-db07-0301e6b6b789"
      },
      "execution_count": null,
      "outputs": [
        {
          "output_type": "stream",
          "name": "stdout",
          "text": [
            "[['-16,000 Southeast Asian Americans have received final orders of removal\\n-4,197 Indian asylum seekers were arrested… https://t.co/LgmQq3eWQD']]\n"
          ]
        }
      ]
    },
    {
      "cell_type": "markdown",
      "source": [
        "# **Step 2: Clean corpus with regular expressions**\n",
        "- remove spaces\n",
        "- remove urls\n",
        "- remove numbers\n",
        "- remove handles\n",
        "- remove emojis"
      ],
      "metadata": {
        "id": "O_K8gZ9nmUU2"
      }
    },
    {
      "cell_type": "code",
      "execution_count": null,
      "metadata": {
        "id": "zrHdXmQC1W65"
      },
      "outputs": [],
      "source": [
        "def preprocess_tweet(tweet: str) -> str:\n",
        "    \"\"\"\n",
        "    Performs Twitter-specific pre-processing steps.\n",
        "    We do not remove punctuation right now because that would remove hashtags.\n",
        "    \"\"\"\n",
        "\n",
        "    space_regex = r'\\s+'\n",
        "    url_regex = r\"\\w+:\\/\\/\\S+\"\n",
        "    space_regex = r'\\s+'\n",
        "    number_regex = r'\\d+'\n",
        "    hashtag_regex = r'\\#\\w+\\s*'\n",
        "    # handle_regex = r\"@[\\w\\d_]+\"\n",
        "    handle_regex = r\"@[\\S]+\" # matches all characters except whitespace\n",
        "    \n",
        "    \n",
        "    # replace long whitespace with single space\n",
        "    cleaned_tweet = re.sub(space_regex, ' ', tweet)\n",
        "    cleaned_tweet = re.sub(url_regex, '', cleaned_tweet)  # remove urls\n",
        "    # remove user handles\n",
        "    cleaned_tweet = re.sub(handle_regex, '', cleaned_tweet)\n",
        "    cleaned_tweet = re.sub(number_regex, '', cleaned_tweet)  # remove numbers\n",
        "    cleaned_tweet = demojize(cleaned_tweet)       # demojize\n",
        "\n",
        "    # remove hashtags\n",
        "    cleaned_tweet = re.sub(hashtag_regex, '', cleaned_tweet)\n",
        "\n",
        "    cleaned_tweet = contractions.fix(cleaned_tweet).lower()\n",
        "    return cleaned_tweet"
      ]
    },
    {
      "cell_type": "code",
      "source": [
        "import nltk\n",
        "nltk.download('wordnet')\n",
        "nltk.download('omw-1.4')\n",
        "for index, row in df.iterrows():\n",
        "  df.at[index,'Content']=preprocess_tweet(row[\"Content\"])"
      ],
      "metadata": {
        "id": "jszyrMeU02aG",
        "colab": {
          "base_uri": "https://localhost:8080/"
        },
        "outputId": "2db0a690-a828-4ee2-eea7-d11caa338e03"
      },
      "execution_count": null,
      "outputs": [
        {
          "output_type": "stream",
          "name": "stderr",
          "text": [
            "[nltk_data] Downloading package wordnet to /root/nltk_data...\n",
            "[nltk_data] Downloading package omw-1.4 to /root/nltk_data...\n"
          ]
        }
      ]
    },
    {
      "cell_type": "code",
      "source": [
        "print(df.head(30))"
      ],
      "metadata": {
        "id": "e_dV0czOjrKH",
        "colab": {
          "base_uri": "https://localhost:8080/"
        },
        "outputId": "3ba1e0cf-646f-486f-dc6b-c70b855466b7"
      },
      "execution_count": null,
      "outputs": [
        {
          "output_type": "stream",
          "name": "stdout",
          "text": [
            "                                              Content\n",
            "0   -, southeast asian americans have received fin...\n",
            "1   . jerry vattamala on how to combat voter suppr...\n",
            "2   . an org focused on addressing bullying in the...\n",
            "3   .  emphasizes that president trump was clear t...\n",
            "4   . our master of ceremonies, kicks off tonight’...\n",
            "5   . “this is an organization that we need now mo...\n",
            "6   . “the american courage awards honor living le...\n",
            "7            .     +  are partnering to bring you t… \n",
            "8   . new video series is spreading good news! the...\n",
            "9   . of  highlights in  that the increasing sophi...\n",
            "10  . is marking up the this morning which would r...\n",
            "11  . to  why are you here [at ] instead of pres. ...\n",
            "12  . delivering powerful remarks during the rally...\n",
            "13  . says he will give small businesses a restart...\n",
            "14  . notes that if you are able to, bystander int...\n",
            "15  . says there are dangerous consequences for as...\n",
            "16  . “a new dawn requires all of us as informed c...\n",
            "17  . “nothing is possible without the staff at  g...\n",
            "18  . is joining  commitment march this friday to ...\n",
            "19  . must know aapi community needs vary. just lo...\n",
            "20  . explains how food binds the asian american c...\n",
            "21  . asian americans could not be more timely wit...\n",
            "22  . introduced a resolution to urge congress to ...\n",
            "23  . is looking into the possibility of creating ...\n",
            "24  . thank you for your work for our immigrant co...\n",
            "25  . \"as the daughter of immigrants, i am committ...\n",
            "26  . also emphasizes that this virus does not dis...\n",
            "27  . \"we will be quoting heavily from this report...\n",
            "28  . encourages us to speak out and report hate i...\n",
            "29  . introduced the to improve our family-based i...\n"
          ]
        }
      ]
    },
    {
      "cell_type": "markdown",
      "source": [
        "# **Step 3: Tokenize Tweets**\n",
        "- tokenize tweets using tweet tokenizer\n",
        "- lemmatize \n"
      ],
      "metadata": {
        "id": "eFHvgWpUm0Lz"
      }
    },
    {
      "cell_type": "code",
      "execution_count": null,
      "metadata": {
        "id": "daGMz2HiopiJ"
      },
      "outputs": [],
      "source": [
        "def tokenize(tweet: str, method: str = \"tweet\") -> List[str]:\n",
        "    \"\"\"\n",
        "    Returns tokens of a tweet, tokenized using a specified method, with all the tokens stemmed.\n",
        "    tweet is a string\n",
        "    method is a string\n",
        "    \"\"\"\n",
        "\n",
        "    from nltk.stem import WordNetLemmatizer\n",
        "    from nltk.tokenize import TweetTokenizer, word_tokenize\n",
        "    from nltk.stem import PorterStemmer\n",
        "    import emoji\n",
        "    import string\n",
        "      \n",
        "    lemmatizer = WordNetLemmatizer()\n",
        "\n",
        "    tokens = []\n",
        "    if method == \"tweet\":\n",
        "        tweet_tokenizer = TweetTokenizer()\n",
        "        tokens = tweet_tokenizer.tokenize(tweet)\n",
        "    elif method == \"word\":\n",
        "        tokens = word_tokenize(tweet)\n",
        "\n",
        "    # remove tokens that are just punctuation\n",
        "\n",
        "    # ***TODO: append other excluded ASCII values to string.punctuation***\n",
        "    punctuation_list = [punct for punct in string.punctuation]\n",
        "    punctuation_list.append(['’', '“'])\n",
        "    tokens_punctuation_removed = [\n",
        "        t for t in tokens if t not in punctuation_list]\n",
        "        \n",
        "    # remove emojis\n",
        "    # tokens_emojis_removed = [\n",
        "    #     t for t in tokens_punctuation_removed if t not in emoji.UNICODE_EMOJI]\n",
        "\n",
        "    # uncomment to perform stemming\n",
        "    # return [PorterStemmer().stem(t) for t in tokens_punctuation_removed]\n",
        "\n",
        "    return [lemmatizer.lemmatize(w) for w in tokens_punctuation_removed]"
      ]
    },
    {
      "cell_type": "code",
      "execution_count": null,
      "metadata": {
        "id": "cvVwWkt7ouJJ"
      },
      "outputs": [],
      "source": [
        "for index, row in df.iterrows():\n",
        "  df.at[index,'Content']=tokenize(row[\"Content\"])"
      ]
    },
    {
      "cell_type": "code",
      "execution_count": null,
      "metadata": {
        "id": "qtRaw8FBsLLE",
        "colab": {
          "base_uri": "https://localhost:8080/"
        },
        "outputId": "126e55c2-1153-4a31-cfe7-643887fde044"
      },
      "outputs": [
        {
          "output_type": "stream",
          "name": "stdout",
          "text": [
            "                                              Content\n",
            "0   [southeast, asian, american, have, received, f...\n",
            "1   [jerry, vattamala, on, how, to, combat, voter,...\n",
            "2   [an, org, focused, on, addressing, bullying, i...\n",
            "3   [emphasizes, that, president, trump, wa, clear...\n",
            "4   [our, master, of, ceremony, kick, off, tonight...\n",
            "5   [“, this, is, an, organization, that, we, need...\n",
            "6   [“, the, american, courage, award, honor, livi...\n",
            "7             [are, partnering, to, bring, you, t, …]\n",
            "8   [new, video, series, is, spreading, good, news...\n",
            "9   [of, highlight, in, that, the, increasing, sop...\n",
            "10  [is, marking, up, the, this, morning, which, w...\n",
            "11  [to, why, are, you, here, at, instead, of, pre...\n",
            "12  [delivering, powerful, remark, during, the, ra...\n",
            "13  [say, he, will, give, small, business, a, rest...\n",
            "14  [note, that, if, you, are, able, to, bystander...\n",
            "15  [say, there, are, dangerous, consequence, for,...\n",
            "16  [“, a, new, dawn, requires, all, of, u, a, inf...\n",
            "17  [“, nothing, is, possible, without, the, staff...\n",
            "18  [is, joining, commitment, march, this, friday,...\n",
            "19  [must, know, aapi, community, need, vary, just...\n"
          ]
        }
      ],
      "source": [
        "print(df.head(20))"
      ]
    },
    {
      "cell_type": "markdown",
      "source": [
        "# **Step 4: Remove apostrophes with Regular expressions**\n",
        "- note: initially handles were of the form '@akin's', so removing handles\n",
        "left us with \"'s\", now remove apostrophe leaves us with just \"S\", is this import\n",
        "ant enough to affect our model?"
      ],
      "metadata": {
        "id": "cYbngSg6nLOq"
      }
    },
    {
      "cell_type": "code",
      "source": [
        "def remove_apostrophe(tweet):\n",
        "  special_character_regex = r'[^\\w ]'\n",
        "  cleaned = ''\n",
        "  result = []\n",
        "  if tweet:\n",
        "    for word in tweet:\n",
        "      cleaned =  re.sub(special_character_regex, '', word)\n",
        "      # if cleaned == 's':\n",
        "      #   cleaned = ''\n",
        "      if len(cleaned) != 0:\n",
        "        result.append(cleaned)\n",
        "    return result\n"
      ],
      "metadata": {
        "id": "JDI6qzP92MCj"
      },
      "execution_count": null,
      "outputs": []
    },
    {
      "cell_type": "code",
      "source": [
        "for index, row in df.iterrows():\n",
        "  df.at[index,'Content']=remove_apostrophe(row[\"Content\"])"
      ],
      "metadata": {
        "id": "N1goDirT2w3I"
      },
      "execution_count": null,
      "outputs": []
    },
    {
      "cell_type": "code",
      "source": [
        "print(df.head(10))"
      ],
      "metadata": {
        "id": "LrZ3DAqTy5ce",
        "colab": {
          "base_uri": "https://localhost:8080/"
        },
        "outputId": "d2dd98ec-22b8-4b6b-8b2d-a422d009f1fa"
      },
      "execution_count": null,
      "outputs": [
        {
          "output_type": "stream",
          "name": "stdout",
          "text": [
            "                                             Content\n",
            "0  [southeast, asian, american, have, received, f...\n",
            "1  [jerry, vattamala, on, how, to, combat, voter,...\n",
            "2  [an, org, focused, on, addressing, bullying, i...\n",
            "3  [emphasizes, that, president, trump, wa, clear...\n",
            "4  [our, master, of, ceremony, kick, off, tonight...\n",
            "5  [this, is, an, organization, that, we, need, n...\n",
            "6  [the, american, courage, award, honor, living,...\n",
            "7               [are, partnering, to, bring, you, t]\n",
            "8  [new, video, series, is, spreading, good, news...\n",
            "9  [of, highlight, in, that, the, increasing, sop...\n"
          ]
        }
      ]
    },
    {
      "cell_type": "code",
      "source": [
        "print(df.head(1).values.tolist())"
      ],
      "metadata": {
        "colab": {
          "base_uri": "https://localhost:8080/"
        },
        "id": "LxwBEfh7FPxY",
        "outputId": "1eaedc47-5990-472e-ddf4-f8b89a30c977"
      },
      "execution_count": null,
      "outputs": [
        {
          "output_type": "stream",
          "name": "stdout",
          "text": [
            "[[['southeast', 'asian', 'american', 'have', 'received', 'final', 'order', 'of', 'removal', 'indian', 'asylum', 'seeker', 'were', 'arrested']]]\n"
          ]
        }
      ]
    },
    {
      "cell_type": "code",
      "source": [
        "# Remove Null values\n",
        "df.fillna(\"\", inplace = True)"
      ],
      "metadata": {
        "id": "s1mkOnnJiT9C"
      },
      "execution_count": null,
      "outputs": []
    },
    {
      "cell_type": "markdown",
      "source": [
        "## **Step 5: Vectorization**"
      ],
      "metadata": {
        "id": "V8YBf9uKnqBn"
      }
    },
    {
      "cell_type": "code",
      "execution_count": null,
      "metadata": {
        "id": "x4PxvOdPKR9r"
      },
      "outputs": [],
      "source": [
        "from gensim.models import Word2Vec\n",
        "\n",
        "df_to_list = df['Content'].values.tolist()\n",
        "model = Word2Vec(df_to_list, min_count=1)\n",
        "words = list(model.wv.vocab)\n",
        "model.save('model.bin')"
      ]
    },
    {
      "cell_type": "code",
      "source": [
        "import pickle\n",
        "with open('/content/drive/MyDrive/XMP Preprocessing/words.txt', 'wb') as f:\n",
        "  pickle.dump(model, f)"
      ],
      "metadata": {
        "id": "1uwDDl27HWXv"
      },
      "execution_count": null,
      "outputs": []
    },
    {
      "cell_type": "code",
      "source": [
        "print(words[:5])"
      ],
      "metadata": {
        "id": "kNE9L9REitqR",
        "colab": {
          "base_uri": "https://localhost:8080/"
        },
        "outputId": "cd876b26-2558-47b7-b947-70d1d809c772"
      },
      "execution_count": null,
      "outputs": [
        {
          "output_type": "stream",
          "name": "stdout",
          "text": [
            "['southeast', 'asian', 'american', 'have', 'received']\n"
          ]
        }
      ]
    },
    {
      "cell_type": "code",
      "source": [
        "# Vector for one word. \n",
        "print(model['southeast'])"
      ],
      "metadata": {
        "id": "PvKkfQGBi8e6",
        "colab": {
          "base_uri": "https://localhost:8080/"
        },
        "outputId": "6fa19d2d-b409-404a-b96f-62ee2e034b92"
      },
      "execution_count": null,
      "outputs": [
        {
          "output_type": "stream",
          "name": "stdout",
          "text": [
            "[ 0.21447395  0.0749198   0.15211219  0.19572447  0.01146604 -0.00938125\n",
            " -0.09517094 -0.18752871  0.20009087 -0.12412427 -0.10862178 -0.25482103\n",
            "  0.08340999  0.0588998  -0.08152838 -0.05642342 -0.1679116   0.02399728\n",
            "  0.14197311  0.15439384 -0.08608609  0.12176845 -0.27696583  0.1834369\n",
            "  0.2575096  -0.0825416   0.1656934  -0.14644098  0.02750375  0.21510966\n",
            "  0.18447848 -0.03109224  0.11713315  0.01370578 -0.34183213  0.00948492\n",
            " -0.06839938 -0.22463879  0.06353644  0.03802526  0.01559794 -0.219309\n",
            "  0.17676108 -0.23740412 -0.1002999   0.06591324 -0.05371516 -0.12637962\n",
            " -0.15904723  0.01477766  0.10934281 -0.1091759   0.28411645 -0.02004172\n",
            "  0.06911036 -0.01010861  0.14007722 -0.05941581 -0.10036253  0.06345107\n",
            "  0.15137044 -0.04393443  0.06242364  0.00083578 -0.01191552  0.04421586\n",
            "  0.01649423  0.07058173 -0.18019581  0.22817585 -0.21302074 -0.03671794\n",
            "  0.08040724 -0.32693842  0.02405213 -0.15564302  0.12876165 -0.19671778\n",
            "  0.21899843 -0.27895337 -0.1286265   0.13284585 -0.19107565 -0.04472887\n",
            "  0.11941403 -0.12347952  0.03446405  0.08847021  0.04701874 -0.05744365\n",
            "  0.06289344 -0.09253559  0.02640993 -0.12218198  0.12993614  0.0290187\n",
            "  0.01979016  0.15133716  0.01121498 -0.08469613]\n"
          ]
        },
        {
          "output_type": "stream",
          "name": "stderr",
          "text": [
            "<ipython-input-18-f8527e7c28f2>:2: DeprecationWarning: Call to deprecated `__getitem__` (Method will be removed in 4.0.0, use self.wv.__getitem__() instead).\n",
            "  print(model['southeast'])\n"
          ]
        }
      ]
    },
    {
      "cell_type": "code",
      "source": [
        "from sklearn.decomposition import PCA\n",
        "import matplotlib.pyplot as plt\n",
        "\n",
        "data = model[model.wv.vocab]\n",
        "\n",
        "pca = PCA(n_components=2)\n",
        "result = pca.fit_transform(data)\n"
      ],
      "metadata": {
        "id": "OgDRumbfUvxX",
        "colab": {
          "base_uri": "https://localhost:8080/"
        },
        "outputId": "5d1bc71e-b552-4fa8-a526-5fb04b00b99a"
      },
      "execution_count": null,
      "outputs": [
        {
          "output_type": "stream",
          "name": "stderr",
          "text": [
            "<ipython-input-19-cc8756434a5c>:4: DeprecationWarning: Call to deprecated `__getitem__` (Method will be removed in 4.0.0, use self.wv.__getitem__() instead).\n",
            "  data = model[model.wv.vocab]\n"
          ]
        }
      ]
    },
    {
      "cell_type": "code",
      "source": [
        "# Create Scatter plot to visualize words\n",
        "plt.scatter(result[:20, 0], result[:20, 1])\n",
        "words = list(model.wv.vocab)\n",
        "for i, word in enumerate(words[:20]):\n",
        "  plt.annotate(word, xy=(result[i, 0], result[i,1]))\n",
        "plt.show()"
      ],
      "metadata": {
        "id": "DO2s-zmnSbG3",
        "colab": {
          "base_uri": "https://localhost:8080/",
          "height": 265
        },
        "outputId": "9b7ff1ac-ea89-4577-bb25-57e37367fc53"
      },
      "execution_count": null,
      "outputs": [
        {
          "output_type": "display_data",
          "data": {
            "text/plain": [
              "<Figure size 432x288 with 1 Axes>"
            ],
            "image/png": "[encoded data removed]"
          },
          "metadata": {
            "needs_background": "light"
          }
        }
      ]
    },
    {
      "cell_type": "code",
      "source": [
        "# Pickle dataframe\n",
        "df.to_pickle('/content/drive/MyDrive/XMP Preprocessing/cleaned_data.pkl')"
      ],
      "metadata": {
        "id": "11bm9wHhkWBU"
      },
      "execution_count": null,
      "outputs": []
    }
  ],
  "metadata": {
    "colab": {
      "provenance": []
    },
    "kernelspec": {
      "display_name": "Python 3",
      "name": "python3"
    },
    "language_info": {
      "name": "python"
    }
  },
  "nbformat": 4,
  "nbformat_minor": 0
}