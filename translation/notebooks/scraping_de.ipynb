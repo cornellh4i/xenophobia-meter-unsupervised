{
 "cells": [
  {
   "cell_type": "markdown",
   "metadata": {},
   "source": [
    "# Script for Scraping German Tweets\n",
    "Description:\n",
    "to be written\n",
    "\n",
    "https://twitter.com/afd\n",
    "https://python.plainenglish.io/scraping-tweets-with-tweepy-python-59413046e788\n",
    "https://www.tweepy.org/"
   ]
  },
  {
   "cell_type": "code",
   "execution_count": 9,
   "metadata": {},
   "outputs": [],
   "source": [
    "from tweepy import OAuthHandler\n",
    "from tweepy.client import Client\n",
    "import tweepy\n",
    "import json\n",
    "import pandas as pd\n",
    "import csv\n",
    "import re\n",
    "from textblob import TextBlob\n",
    "import string\n",
    "import preprocessor as p\n",
    "import os\n",
    "import time\n",
    "import re\n",
    "from googletrans import Translator"
   ]
  },
  {
   "cell_type": "code",
   "execution_count": 4,
   "metadata": {},
   "outputs": [],
   "source": [
    "# keys to access Twitter API - need to put in env\n",
    "api_key = \"rrvwmzwkhv2g8ojhvLXzqpGiI\"\n",
    "api_secret = \"K4RBhsY33EHe9uZkoLs1dr3fUJHEkIQpvCDCTJ3ekoj7Xi5u23\"\n",
    "bearer_token = \"AAAAAAAAAAAAAAAAAAAAAJXXjAEAAAAAH2oj95GT6kjAqynSMXP%2FIH4W2hY%3DNuYn8xWm8VpkZ5HngtQLq4n28LLhRHNMPHkOVCBZNg4oreZSA0\"\n",
    "\n",
    "access_token = \"1445822502878449668-Nsd4YAZXmMyQeAhvyGmZSf8zdjRJFn\"\n",
    "access_secret = \"nk2C0D0kNNFkRH9viCbi0JSLAkvjW3I88RdRBXpBOblP9\"\n",
    "\n",
    "# passing keys to Tweepy - I think deprecated, use next two lines only for 1.1\n",
    "auth = OAuthHandler(api_key, api_secret)\n",
    "auth.set_access_token(access_token, access_secret)\n",
    "\n",
    "client = tweepy.Client(bearer_token)"
   ]
  },
  {
   "cell_type": "code",
   "execution_count": 5,
   "metadata": {},
   "outputs": [],
   "source": [
    "# get tweets from specific user - in this case, AFD. id was produced using https://tweeterid.com/\n",
    "user_id = 844081278\n",
    "tweets = client.get_users_tweets(id = user_id, max_results = 100)"
   ]
  },
  {
   "cell_type": "code",
   "execution_count": 6,
   "metadata": {},
   "outputs": [],
   "source": [
    "# tweet dictionary\n",
    "twts = {}\n",
    "index = 0"
   ]
  },
  {
   "cell_type": "code",
   "execution_count": 8,
   "metadata": {},
   "outputs": [
    {
     "name": "stdout",
     "output_type": "stream",
     "text": [
      "['für', 'Freiheit', 'Frieden', 'Sicherheit']\n",
      "['Die', 'Bürger', 'sollen', 'frieren', 'und', 'den', 'Gürtel', 'enger', 'Schnallen', 'und', 'der', 'aufgedunsene', 'VersagerWirtschaftsminister', 'möchte', 'für']\n",
      "['für', 'wir', 'wollen', 'echte', 'Eitelkeit', 'rangiert', 'vor', 'Expertise', 'vor', 'Integrität', 'Schaumschlägerei', 'vor', 'Sachpolitik', 'Es', 'wird', 'höchste', 'Zeit', 'für', 'ein']\n",
      "['Als', 'erster', 'Abgeordneter', 'wurde', 'ich', 'heute', 'mit', 'Stimmen', 'der', 'AfDFraktionBB', 'und', 'weiterer', 'Fraktionen', 'im', 'Landtag', 'zum', 'Mit']\n",
      "['UAusschüsse', 'und', 'im', 'Landtag', 'beschlossen']\n",
      "['Gestern', 'ist', 'offenbar', 'eine', 'Flugabwehrrakete', 'der', 'Ukraine', 'in', 'Polen', 'eingeschlagen', 'Die', 'Aufregung', 'danach', 'hat', 'gezeigt', 'Falsch']\n",
      "['Die', 'macht', 'arm', 'Mittlerweile', 'gelten', 'Prozent', 'der', 'Bevölkerung', 'als', 'arm', 'Das', 'sind', 'Millionen', 'Bürg']\n",
      "['Heute', 'hoher', 'Besuch', 'auf', 'dem', 'Sächsischen', 'Weihnachtsmarkt', 'der', 'Landesvertretung', 'in', 'Brüssel', 'TinoChrupalla', 'Sachsen', 'ist']\n",
      "['Linke', 'Grüne', 'und', 'Progressive', 'veröden', 'unsere', 'Städte', 'Schönheit', 'und', 'Identität', 'sind', 'für', 'sie', 'nichts', 'weiter', 'als', 'rückwärtsgewa']\n",
      "['Impfkampagne', 'Bundesregierung', 'gibt', 'als', 'normale', 'Bürger', 'aus', 'Bei', 'mind', 'Personen', 'handelt', 'es', 'sich', 'offe']\n",
      "['Die', 'Mitglieder', 'des', 'Landtages', 'haben', 'mich', 'heute', 'in', 'das', 'wichtige', 'des', 'öffentlichrechtlichen']\n",
      "['Bürger', 'sind', 'trotz', 'von', 'betroffen', 'Armut', 'bekämpft', 'man', 'nicht', 'mit', 'sondern', 'indem', 'Lebenskosten', 'gesenkt', 'ermöglicht', 'und', 'nicht', 'in', 'alle', 'Herren', 'Länder', 'oder', 'für', 'unsinnige', 'Projekte', 'verschleudert', 'werden']\n",
      "['ist', 'ein', 'überfälliger', 'Schritt', 'dass', 'sich', 'nun', 'auch', 'für', 'das', 'Ende', 'der', 'sinnlosen', 'im', 'aussprechen', 'Mit', 'dem', 'von', 'geprägten', 'Sonderweg', 'unseres', 'Landes', 'muss', 'endlich', 'Schluss', 'sein']\n",
      "['sich', 'heute', 'anhören', 'will', 'wie', 'die', 'die', 'Energieversorgung', 'eines', 'ganzen', 'Landes', 'an', 'die', 'Wand', 'fährt', 'hat', 'ab', 'Uhr', 'im', 'Parlamentsfernsehen', 'des', 'Bundestages', 'die', 'Gelegenheit', 'dazu', 'Ungefilterte', 'Verblendung', 'und', 'Ideologie', 'von', 'und', 'live', 'auf']\n",
      "['𝐕𝐞𝐫𝐝𝐨𝐩𝐩𝐞𝐥𝐭', 'Jeder', 'Wähler', 'in', 'wählt']\n",
      "['Abschiebeflüge', 'mit', 'Regierung', 'Symbolbild']\n",
      "['Tausende', 'Kunden', 'der', 'Düsseldorfer', 'müssen', 'sich', 'zum', 'neuen', 'Jahr', 'einen', 'neuen', 'Energieversorger', 'suchen', 'Die', 'Stadtw']\n",
      "['Dieser', 'Vorfall', 'war', 'zwar', 'kein', 'aber', 'er', 'zeigt', 'uns', 'welche', 'lebensgefährlichen', 'Auswirkungen', 'er', 'hätte', 'Nachdem', 'ein']\n",
      "['Schlecht', 'vorbereitet', 'auf', 'einen', 'möglichen', 'ist', 'offenbar', 'die', 'Millionenstadt', 'Die', 'dortigen']\n",
      "['Ankündigung', 'hat', 'uns', 'am', 'gestrigen', 'Abend', 'den', 'Zugang', 'zu', 'unserem', 'Profil', 'gesperrt', 'Wir', 'freuen', 'uns', 'dass', 'unserem', 'Einspruch', 'entsprochen', 'und', 'die', 'Sperre', 'aufgehoben', 'wurde']\n",
      "['In', 'einer', 'Broschüre', 'fordert', 'die', 'Stadt', 'Bad', 'Honnef', 'dazu', 'auf', 'sich', 'für', 'den', 'Fall', 'eines', 'längeren', 'Stromausfalls', 'vorzube']\n",
      "['Das', 'im', 'bayerischen', 'hat', 'einen', 'möglichen', 'geprobt', 'Die', 'Maßnahme', 'erfolgt', 'aus', 'gutem', 'Grund', 'denn', 'ohn']\n",
      "['Schlappe', 'für', 'die', 'zum', 'Der', 'hat', 'das', 'gestoppt', 'Also', 'erst', 'einmal', 'kein', 'RundumSorglosPaket', 'von', 'dem', 'größtenteils', 'profitieren', 'würden', 'Illegale', 'muss', 'eingedämmt', 'und', 'nicht', 'vergoldet', 'werden']\n",
      "['darf', 'kein', 'Grund', 'sein', 'Ob', 'aus', 'oder', 'Sach', 'statt', 'Geldleistungen']\n",
      "['Zeitumstellung', 'So', 'kläglich', 'scheitert', 'die', 'EU', 'sprachen', 'sich', 'bei', 'einer', 'Umfrage', 'der', 'Mio', 'Befragten', 'für', 'ein']\n",
      "['Einhalt', 'gebieten', 'Kein', 'der', 'bestehender', 'Vorsc']\n",
      "['Wie', 'überall', 'in', 'SachsenAnhalt', 'so', 'haben', 'auch', 'wir', 'in', 'der', 'Börde', 'heute', 'an', 'den', 'lokalen', 'Ehrenmälern', 'unserer', 'Gefallenen', 'geda']\n",
      "['Sogar', 'der', 'Mainstream', 'nimmt', 'sich', 'des', 'Themas', 'an', 'Die', 'kriminellen', 'sog', 'werden', 'für', 'menschenverachtende']\n",
      "['weiter', 'Beispielsweise', 'am', 'kommenden', 'Samstag', 'um', 'Uhr', 'auf', 'dem', 'Domplatz', 'in', 'Wir', 'freuen', 'uns', 'auf', 'Ihren', 'Besuch', 'Mit', 'TinoChrupalla', 'JanBollinger', 'SMuenzenmaier', 'NicoleHoechst', 'und', 'SchattnerMdB']\n",
      "['unseres', 's', 'jetzt', 'reinhören', 'Tage', 'der', 'Wochenendpodcast', 'mit', 'vielen', 'spannenden', 'Themen']\n",
      "['der', 'die', 'Gesellschaft', 'gespalten', 'und', 'die', 'geschädigt', 'hat', 'der', 'mit', 'Prognosen', 'ständig', 'falsch', 'lag', 'und', 'im', 'Sumpf', 'versinkt', 'hat', 'komplett', 'versagt', 'Er', 'sollte', 'zurücktreten']\n",
      "['Mann', 'ruft', 'bereits', 'im', 'Februar', 'in', 'der', 'UBahn', 'Allahu', 'Akbar', 'und', 'Ich', 'werde', 'alle', 'Deutschen', 'töten', 'Jetzt', 'fahndet', 'die', 'mit', 'F']\n",
      "['Auch', 'hier', 'hatten', 'wir', 'als', 'AfD', 'immer', 'gewarnt', 'Die', 'wurden', 'besonders', 'von', 'und', 'dem', 'BMGBun']\n",
      "['Haltet', 'ihr', 'es', 'für', 'gerechtfertigt', 'monatlich', 'Euro', 'für', 'den', 'zu', 'bezahlen', 'Plädiert', 'ihr', 'für', 'eine', 'gänzliche', 'A']\n",
      "['eine', 'echte', 'ist', 'deutscher', 'Staatsbürger', 'Wir', 'hoffen', 'dass', 'er', 'diesen', 'Schritt', 'angesichts', 'der', 'fatalen', 'Regierungspolitik', 'der', 'nicht', 'schnell', 'wieder', 'bereut']\n",
      "['Die', 'deutsche', 'und', 'EUKlimapolitik', 'in', 'min', 'widerlegt', 'Anschauen', 'Wir', 'ruinieren', 'uns', 'ohne', 'einen', 'einzigen', 'positiven', 'Effekt']\n",
      "['Nach', 'Sendungen', 'und', 'seiner', 'ihm', 'wohl', 'zustehenden', 'Megapension', 'beklagt', 'Frank', 'die', 'Einseitigkeit']\n",
      "['Sorgten', 'amp', 'schon', 'für', 'mehr', 'illegale', 'Einwanderung', 'wird', 'diese', 'Zahl', 'in', 'diesem', 'Jahr', 'voraussichtlich', 'deutli']\n",
      "['für', 'die', 'Der', 'in', 'muss', 'in', 'seiner', 'öffentlichen', 'Kommunikation', 'auf', 'Stammelsprache', 'verzichten', 'Gut', 'so', 'denn', 'das', 'Gendern', 'ist', 'eine', 'Respektlosigkeit', 'gegenüber', 'der', 'deutschen', 'Sprache', 'und', 'Kultur']\n",
      "['In', 'sollte', 'mit', 'einer', 'Übung', 'erprobt', 'werden', 'ob', 'die', 'städtische', 'einen', 'dreitägigen', 'verkraften']\n",
      "['Fraktion', 'im', 'bleibt', 'sich', 'ideologisch', 'treu', 'Die', 'Wegbereiter', 'der', 'die', 'die', 'und', 'den', 'Kernkraftausstieg', 'erst', 'auf', 'den', 'Weg', 'brachten', 'agieren', 'auch', 'weiterhin', 'an', 'den', 'echten', 'Problemen', 'der', 'Bürger', 'vorbei', 'Deshalb']\n",
      "['Die', 'in', 'Kreis', 'BadenWürttemberg', 'lassen', 'alle', 'aktuellen', 'auslaufen', 'La']\n",
      "['selbst', 'sagt', 'dass', 'der', 'eigene', 'nie', 'darauf', 'getestet', 'wurde', 'ob', 'er', 'vor', 'Ansteckung', 'schütze', 'Die', 'Faktenverdre']\n",
      "['Bei', 'einem', 'Jahresverbrauch', 'von', 'kWh', 'errechnet', 'Energie', 'für', 'eine', 'von', 'rund', 'Eu']\n",
      "['War', 'zu', 'erwarten', 'Dekadente', 'Bonzen', 'finanzieren', 'Demnach', 'finanzieren', 'sie', 'Plakate', 'Flyer', 'Banner', 'und', 'd']\n",
      "['sind', 'Extremisten', 'Da', 'gibt', 'es', 'keine', 'Diskussion']\n",
      "['HUCH', 'Auflösungserscheinungen', 'bei', 'GrueneEuropa', 'DieGruenen', 'Sowohl', 'für', 'die', 'Menschen', 'in', 'der', 'EU', 'als', 'auch', 'in', 'Deuts']\n",
      "['die', 'stellt', 'sich', 'gegen', 'den', 'Ausverkauf', 'deutscher', 'Interessen', 'Neue', 'Abhängigkeiten', 'drohen', 'unser', 'Land', 'wird', 'weiter', 'ausverkauft', 'und', 'die', 'hält', 'brav', 'den']\n",
      "['offizielle', 'Zahlen', 'bewusst', 'klein', 'gehalten', 'Eine', 'Umfrage', 'ergab', 'dass', 'fast', 'ein', 'Viertel', 'der', 'Geimpften', 'über', 'erhebliche', 'Nebenwirkungen', 'klagt', 'Währenddessen', 'wird', 'vor', 'der', 'nächsten', 'Variante', 'geschürt', 'und', 'wird', 'es', 'freuen']\n",
      "['die', 'gilt', 'augenscheinlich', 'America', 'first', 'Nicht', 'nur', 'beim', 'Thema', 'Rüstungsindustrie', 'sondern', 'auch', 'auf', 'nahezu', 'alle', 'anderen', 'Industrien', 'bezogen', 'die', 'durch', 'die', 'Energiepolitik', 'der', 'vor', 'allem', 'in', 'die', 'getrieben', 'werden']\n",
      "['In', 'einem', 'in', 'ist', 'es', 'am', 'Montag', 'zu', 'einem', 'gekommen', 'Einige', 'Bereiche', 'des', 'Krankenh']\n",
      "['Sehr', 'gute', 'Veranstaltung', 'der', 'Desiderius', 'Erasmus', 'Stiftung', 'SchleswigHolstein', 'Gemeinsam', 'mit', 'KrahMax', 'Sebastian', 'Maack', 'Ch']\n",
      "['Tausende', 'Haushalte', 'in', 'BadenWürttemberg', 'waren', 'am', 'vergangenen', 'Freitagvormittag', 'stundenlang', 'ohne', 'Strom']\n",
      "['endlich', 'bekämpfen', 'Es', 'ist', 'untragbar', 'dass', 'die', 'Extremisten', 'mit', 'albernen', 'Strafen', 'davonkommen', 'Wer', 'Leben', 'gefährdet', 'um', 'seine', 'Ideologie', 'durchzusetzen', 'gehört', 'ins', 'Gefängnis', 'und', 'nicht', 'ins', 'Fernsehstudio']\n",
      "['SPDFraktionschef', 'Rolf', 'steht', 'auf', 'einer', 'Liste', 'der', 'Ukraine', 'weil', 'er', 'dem', 'Land', 'zum', 'Waffenstillstand', 'riet', 'Egal', 'o']\n",
      "['Der', 'Vorschlag', 'zur', 'Einführung', 'eines', 'digitalen', 'ist', 'nichts', 'anderes', 'als', 'eine', 'Abschaffung', 'und', 'damit', 'die', 'Ei']\n",
      "['Der', 'anteil', 'in', 'hat', 'sich', 'seit', 'von', 'auf', 'fast', 'verdoppelt', 'Es', 'wird', 'höchste', 'Zeit', 'die', 'illegal']\n",
      "['Am', 'November', 'dem', 'deutschen', 'Schicksalstag', 'Es', 'wird', 'einen', 'Demozug', 'geben', 'der', 'an', 'mehreren', 'Münchener', 'Gerichten', 'vorbeifü']\n",
      "[]\n",
      "['Warum', 'brauchen', 'wir', 'einen', 'Untersuchungsausschuss']\n",
      "['Wer', 'den', 'Strassenterror', 'dieser', 'für', 'seine', 'Regierungsarbeit', 'benötigt', 'der', 'wird', 'natürlich', 'das', 'Strafrecht']\n",
      "['Wenn', 'es', 'in', 'zu', 'einem', 'kommt', 'haben', 'die', 'Einwohner', 'nur', 'für', 'anderthalb', 'Tage', 'Trinkwasser', 'Man', 'solle', 'sich', 'Vo']\n",
      "['Kunden', 'des', 'Stromversorgers', 'müssen', 'ab', 'dem', 'Januar', 'fast', 'doppelt', 'so', 'viel', 'für', 'ihren', 'zahlenAls', 'Gründe']\n",
      "['Laut', 'einer', 'des', 'Instituts', 'rechnen', 'der', 'Deutschen', 'bereits', 'in', 'diesem', 'mit', 'zeitlich', 'begrenzten']\n",
      "['auf', 'dem', 'höchsten', 'Stand', 'seit', 'Wenn', 'die', 'nicht', 'endlich', 'umlenkt', 'und', 'die', 'überzogene', 'beiseitelegt', 'steuert', 'auf', 'eine', 'soziale', 'amp', 'wirtschaftliche', 'zu']\n",
      "['LIVE', 'Pressekonferenz', 'der', 'Fraktion', 'BerndBaumannAfD', 'Parl', 'Geschäftsführer', 'der', 'Fraktion', 'stellt', 'mit', 'weiteren', 'Abge']\n",
      "['Seit', 'stieg', 'der', 'Anteil', 'von', 'in', 'Hartz', 'IV', 'von', 'auf', 'Die', 'Dunkelziffer', 'dürfte', 'deutlich', 'höher', 'sein', 'da']\n",
      "['Dieselben', 'Parteien', 'die', 'vor', 'einem', 'Jahr', 'noch', 'sämtliche', 'unangemeldete', 'kriminalisiert', 'haben', 'bezeichnen', 'heut']\n",
      "['In', 'der', 'Chemnitzer', 'Innenstadt', 'soll', 'ein', 'aussehender', 'Mann', 'eine', 'Jährige', 'vergewaltigt', 'haben', 'Dank', 'der', 'Politik']\n",
      "['Nun', 'bejubelt', 'clindner', 'auch', 'noch', 'den', 'digitalen', 'Euro', 'Dieser', 'würde', 'bedeuten', 'Mehr', 'Totalüberwachung', 'Negativzinsen', 'Kei']\n",
      "['Spitzenfunktionäre', 'im', 'ÖR', 'verdienen', 'nach', 'Ende', 'ihres', 'Arbeitsverhältnisses', 'munter', 'weiter', 'So', 'bekommt', 'man', 'nach', 'nu']\n",
      "['MecklenburgVorpommerns', 'ruft', 'die', 'Bürger', 'dazu', 'auf', 'sich', 'mit', 'einem', 'gegen', 'mögliche', 'Ausfälle', 'bei']\n",
      "['der', 'Befragten', 'halten', 'Robert', 'nicht', 'für', 'geeignet', 'für', 'das', 'Amt', 'des', 'Das', 'ist', 'freilich', 'kei']\n",
      "['Die', 'versucht', 'offenbar', 'zunehmend', 'den', 'Begriff', 'zu', 'vermeiden', 'und', 'stattdessen', 'von', 'zu']\n",
      "['Städte', 'und', 'Gemeinden', 'wollen', 'die', 'Einführung', 'des', 'Bürgergeldes', 'verschieben', 'während', 'dessen', 'Sogwirkung', 'bereits', 'einsetzt', 'und', 's']\n",
      "['fordert', 'Nur', 'kann', 'diesen', 'beenden', 'Schluss', 'mit', 'dem', 'Schluss', 'mit', 'den', 'und', 'Schluss', 'mit', 'der', 'latenten', 'Gefahr', 'eines']\n",
      "['Ein', 'Versorger', 'in', 'hat', 'die', 'um', 'erhöht', 'Auch', 'bei', 'anderen', 'Versorgern', 'ist', 'aufgrund', 'der']\n",
      "['unseres', 's', 'jetzt', 'reinhören', 'Tage', 'der', 'Wochenendpodcast', 'mit', 'vielen', 'spannenden', 'Themen']\n",
      "['Mio', 'Euro', 'zahlen', 'wir', 'pro', 'Jahr', 'allein', 'für', 'die', 'Gehälter', 'der', 'Mitarbeiter', 'die', 'unsere', 'Zwangsbeiträge', 'für', 'den', 'teu']\n",
      "['CoronaKitaStudie', 'zeigt', 'Kitas', 'waren', 'keine', 'Infektionsherde', 'und', 'die', 'Schließungen', 'während', 'der', 'unnötig', 'Die']\n",
      "['Jahren', 'lässt', 'aus', 'Rathaus', 'entfernen', 'Nur', 'die', 'stellt', 'sich', 'dieser', 'entgegen', 'und', 'steht', 'zu', 'unserer', 'und']\n",
      "['Der', 'Bundeskanzler', 'zeigt', 'in', 'China', 'mehr', 'Realitätssinn', 'als', 'seine', 'grünen', 'Minister', 'mit', 'ihrer', 'wertegeleiteten', 'Außenpolitik']\n",
      "['beenden', 'bewältigen', 'rechnet', 'sich', 'die', 'alarmierenden', 'Zahlen', 'der', 'nach', 'strömenden', 'schön', 'So', 'gibt', 'ihr', 'Ministerium', 'viel', 'geringere', 'Zahlen', 'an', 'als', 'tatsächlich', 'gezählt', 'werden']\n",
      "['Sagen', 'wir', 'wie', 'es', 'ist', 'Die', 'Frau', 'die', 'von', 'einem', 'Betonmischer', 'erfasst', 'wurde', 'könnte', 'mutmaßlich', 'noch', 'am', 'Leben', 'sein', 'wenn']\n",
      "['Junge', 'Alternative', 'Steht', 'für', 'Heimat', 'amp', 'Kultur', 'protestiert', 'gegen', 'die', 'sinnlose', 'Abholzung', 'von', 'Wäldern', 'für']\n",
      "['Die', 'EU', 'benimmt', 'sich', 'wie', 'ein', 'Kolonialherr', 'Autonomie', 'und', 'Unabhängigkeit', 'sind', 'zu', 'respektieren', 'KrahMax', 'mahnt', 'bei', 'der', 'Di']\n",
      "['Das', 'vernichtet', 'tausende', 'Arbeitsplätze', 'gefährdet', 'unsere', 'Energiesicherheit', 'und', 'verteuert', 'den', 'Allein', 'i']\n",
      "['Gedanken', 'sind', 'bei', 'den', 'Angehörigen', 'der', 'Verstorbenen', 'Mehr', 'erfahren']\n",
      "['Warum', 'immer', 'derselbe', 'Täterhintergrund', 'Die', 'ganze', 'Einwanderei', 'ist', 'gescheitert', 'sie', 'hat', 'Probleme', 'geschaffen', 'für', 'die', 'es', 'bislang']\n",
      "['Wir', 'stehen', 'vor', 'einer', 'massiven', 'Krise', 'Und', 'die', 'Regierungschefs', 'schachern', 'um', 'Steuergeld', 'Weder', 'Preisbremsen', 'noch', 'Bürgergel']\n",
      "['Mehr', 'als', 'Jahre', 'Geschäftsbetrieb', 'Mitarbeiter', 'sehen', 'sich', 'einer', 'ungewissen', 'Zukunft', 'entgegen', 'Chiemgauer', 'Naturfleisch']\n",
      "['AfDSprecherin', 'kritisiert', 'das', 'von', 'Bundeskanzler', 'Olaf', 'kindisch', 'als', 'bezeichnete', 'Entlastungsp']\n",
      "['mit', 'deutscher', 'Technik', 'Rekorde', 'feiert', 'wirtschaftet', 'die', 'unser', 'Land', 'in', 'allen', 'Bereichen', 'des', 'Lebens', 'herunter', 'Umlenken', 'ist', 'angesagt']\n",
      "['bei', 'großspurig', 'an', 'bis', 'zu', 'Mrd', 'aus', 'dem', 'zu', 'nutzen', 'Eine', 'Farce', 'bei', 'der', 'sich', 'ein', 'Verursacher', 'der', 'zum', 'Retter', 'aufschwingt', 'auf', 'Kosten', 'der']\n",
      "['Karl', 'verteilt', 'großzügig', 'ohne', 'die', 'Politik', 'der', 'zu', 'hinterfragen', 'Milliarden', 'Euro']\n",
      "['Deutsche', 'Umwelthilfe', 'DUH', 'Böllerverbot', 'Keine', 'Weihnachtsbeleuchtung', 'Tempolimit', 'Keine', 'Kohlekraftwerke', 'DieselF']\n",
      "['Dass', 'die', 'Industrie', 'ihre', 'Produktion', 'einstellt', 'ist', 'den', 'Medien', 'eine', 'Jubelmeldung', 'wert', 'Kein', 'Wort', 'über', 'tausende', 'Arbeitsplätz']\n",
      "['Ampel', 'uneins', 'über', 'Strategie', 'Die', 'Grünen', 'um', 'ABaerbock', 'und', 'trommeln', 'für', 'Wirtschaftskrieg', 'Bundeskanzler']\n",
      "[]\n",
      "['Die', 'Grenzen', 'müssen', 'vollumfänglich', 'abgesichert', 'und', 'illegale', 'vor', 'Ort', 'abgewiesen', 'werden', 'Wir', 'müssen', 'die', 'Reißl']\n"
     ]
    }
   ],
   "source": [
    "# printing tweets\n",
    "for t in tweets.data:\n",
    "#     removing links\n",
    "    t = re.sub(r'(https?:\\/\\/)?([\\da-z\\.-]+)\\.([a-z\\.]{2,6})([\\/\\w \\.-]*)', '', str(t))\n",
    "#     removing hashtags, RT, numbers\n",
    "    t = re.sub(r'#\\w*|RT\\w*', '', t)\n",
    "    t = re.sub(\"\\d+\", '', t)\n",
    "#     removing non-alpha characters\n",
    "    tweet_split = re.sub(r'([^\\s\\w]|_)+|https\\w*', '', t).split()[1:]\n",
    "    twts[index] = tweet_split\n",
    "    print(twts[index])\n",
    "    index += 1"
   ]
  },
  {
   "cell_type": "code",
   "execution_count": 11,
   "metadata": {},
   "outputs": [],
   "source": [
    "# translated tweets dictionary\n",
    "de_eng_twts = {}    "
   ]
  },
  {
   "cell_type": "code",
   "execution_count": 17,
   "metadata": {},
   "outputs": [
    {
     "ename": "AttributeError",
     "evalue": "'NoneType' object has no attribute 'group'",
     "output_type": "error",
     "traceback": [
      "\u001b[0;31m---------------------------------------------------------------------------\u001b[0m",
      "\u001b[0;31mAttributeError\u001b[0m                            Traceback (most recent call last)",
      "\u001b[0;32m<ipython-input-17-9c651534128b>\u001b[0m in \u001b[0;36m<module>\u001b[0;34m\u001b[0m\n\u001b[1;32m      3\u001b[0m \u001b[0;34m\u001b[0m\u001b[0m\n\u001b[1;32m      4\u001b[0m \u001b[0;32mfor\u001b[0m \u001b[0mi\u001b[0m \u001b[0;32min\u001b[0m \u001b[0mtwts\u001b[0m\u001b[0;34m.\u001b[0m\u001b[0mkeys\u001b[0m\u001b[0;34m(\u001b[0m\u001b[0;34m)\u001b[0m\u001b[0;34m:\u001b[0m\u001b[0;34m\u001b[0m\u001b[0;34m\u001b[0m\u001b[0m\n\u001b[0;32m----> 5\u001b[0;31m     \u001b[0mprint\u001b[0m\u001b[0;34m(\u001b[0m\u001b[0mtranslator\u001b[0m\u001b[0;34m.\u001b[0m\u001b[0mtranslate\u001b[0m\u001b[0;34m(\u001b[0m\u001b[0mtwts\u001b[0m\u001b[0;34m[\u001b[0m\u001b[0;36m1\u001b[0m\u001b[0;34m]\u001b[0m\u001b[0;34m)\u001b[0m\u001b[0;34m)\u001b[0m\u001b[0;34m\u001b[0m\u001b[0;34m\u001b[0m\u001b[0m\n\u001b[0m\u001b[1;32m      6\u001b[0m \u001b[0;31m#     de_eng_twts[i] = translator.translate(twts[i])\u001b[0m\u001b[0;34m\u001b[0m\u001b[0;34m\u001b[0m\u001b[0;34m\u001b[0m\u001b[0m\n\u001b[1;32m      7\u001b[0m \u001b[0;31m#     print(de_eng_twts[i])\u001b[0m\u001b[0;34m\u001b[0m\u001b[0;34m\u001b[0m\u001b[0;34m\u001b[0m\u001b[0m\n",
      "\u001b[0;32m~/opt/anaconda3/lib/python3.7/site-packages/googletrans/client.py\u001b[0m in \u001b[0;36mtranslate\u001b[0;34m(self, text, dest, src, **kwargs)\u001b[0m\n\u001b[1;32m    175\u001b[0m             \u001b[0mresult\u001b[0m \u001b[0;34m=\u001b[0m \u001b[0;34m[\u001b[0m\u001b[0;34m]\u001b[0m\u001b[0;34m\u001b[0m\u001b[0;34m\u001b[0m\u001b[0m\n\u001b[1;32m    176\u001b[0m             \u001b[0;32mfor\u001b[0m \u001b[0mitem\u001b[0m \u001b[0;32min\u001b[0m \u001b[0mtext\u001b[0m\u001b[0;34m:\u001b[0m\u001b[0;34m\u001b[0m\u001b[0;34m\u001b[0m\u001b[0m\n\u001b[0;32m--> 177\u001b[0;31m                 \u001b[0mtranslated\u001b[0m \u001b[0;34m=\u001b[0m \u001b[0mself\u001b[0m\u001b[0;34m.\u001b[0m\u001b[0mtranslate\u001b[0m\u001b[0;34m(\u001b[0m\u001b[0mitem\u001b[0m\u001b[0;34m,\u001b[0m \u001b[0mdest\u001b[0m\u001b[0;34m=\u001b[0m\u001b[0mdest\u001b[0m\u001b[0;34m,\u001b[0m \u001b[0msrc\u001b[0m\u001b[0;34m=\u001b[0m\u001b[0msrc\u001b[0m\u001b[0;34m,\u001b[0m \u001b[0;34m**\u001b[0m\u001b[0mkwargs\u001b[0m\u001b[0;34m)\u001b[0m\u001b[0;34m\u001b[0m\u001b[0;34m\u001b[0m\u001b[0m\n\u001b[0m\u001b[1;32m    178\u001b[0m                 \u001b[0mresult\u001b[0m\u001b[0;34m.\u001b[0m\u001b[0mappend\u001b[0m\u001b[0;34m(\u001b[0m\u001b[0mtranslated\u001b[0m\u001b[0;34m)\u001b[0m\u001b[0;34m\u001b[0m\u001b[0;34m\u001b[0m\u001b[0m\n\u001b[1;32m    179\u001b[0m             \u001b[0;32mreturn\u001b[0m \u001b[0mresult\u001b[0m\u001b[0;34m\u001b[0m\u001b[0;34m\u001b[0m\u001b[0m\n",
      "\u001b[0;32m~/opt/anaconda3/lib/python3.7/site-packages/googletrans/client.py\u001b[0m in \u001b[0;36mtranslate\u001b[0;34m(self, text, dest, src, **kwargs)\u001b[0m\n\u001b[1;32m    180\u001b[0m \u001b[0;34m\u001b[0m\u001b[0m\n\u001b[1;32m    181\u001b[0m         \u001b[0morigin\u001b[0m \u001b[0;34m=\u001b[0m \u001b[0mtext\u001b[0m\u001b[0;34m\u001b[0m\u001b[0;34m\u001b[0m\u001b[0m\n\u001b[0;32m--> 182\u001b[0;31m         \u001b[0mdata\u001b[0m \u001b[0;34m=\u001b[0m \u001b[0mself\u001b[0m\u001b[0;34m.\u001b[0m\u001b[0m_translate\u001b[0m\u001b[0;34m(\u001b[0m\u001b[0mtext\u001b[0m\u001b[0;34m,\u001b[0m \u001b[0mdest\u001b[0m\u001b[0;34m,\u001b[0m \u001b[0msrc\u001b[0m\u001b[0;34m,\u001b[0m \u001b[0mkwargs\u001b[0m\u001b[0;34m)\u001b[0m\u001b[0;34m\u001b[0m\u001b[0;34m\u001b[0m\u001b[0m\n\u001b[0m\u001b[1;32m    183\u001b[0m \u001b[0;34m\u001b[0m\u001b[0m\n\u001b[1;32m    184\u001b[0m         \u001b[0;31m# this code will be updated when the format is changed.\u001b[0m\u001b[0;34m\u001b[0m\u001b[0;34m\u001b[0m\u001b[0;34m\u001b[0m\u001b[0m\n",
      "\u001b[0;32m~/opt/anaconda3/lib/python3.7/site-packages/googletrans/client.py\u001b[0m in \u001b[0;36m_translate\u001b[0;34m(self, text, dest, src, override)\u001b[0m\n\u001b[1;32m     76\u001b[0m \u001b[0;34m\u001b[0m\u001b[0m\n\u001b[1;32m     77\u001b[0m     \u001b[0;32mdef\u001b[0m \u001b[0m_translate\u001b[0m\u001b[0;34m(\u001b[0m\u001b[0mself\u001b[0m\u001b[0;34m,\u001b[0m \u001b[0mtext\u001b[0m\u001b[0;34m,\u001b[0m \u001b[0mdest\u001b[0m\u001b[0;34m,\u001b[0m \u001b[0msrc\u001b[0m\u001b[0;34m,\u001b[0m \u001b[0moverride\u001b[0m\u001b[0;34m)\u001b[0m\u001b[0;34m:\u001b[0m\u001b[0;34m\u001b[0m\u001b[0;34m\u001b[0m\u001b[0m\n\u001b[0;32m---> 78\u001b[0;31m         \u001b[0mtoken\u001b[0m \u001b[0;34m=\u001b[0m \u001b[0mself\u001b[0m\u001b[0;34m.\u001b[0m\u001b[0mtoken_acquirer\u001b[0m\u001b[0;34m.\u001b[0m\u001b[0mdo\u001b[0m\u001b[0;34m(\u001b[0m\u001b[0mtext\u001b[0m\u001b[0;34m)\u001b[0m\u001b[0;34m\u001b[0m\u001b[0;34m\u001b[0m\u001b[0m\n\u001b[0m\u001b[1;32m     79\u001b[0m         params = utils.build_params(query=text, src=src, dest=dest,\n\u001b[1;32m     80\u001b[0m                                     token=token, override=override)\n",
      "\u001b[0;32m~/opt/anaconda3/lib/python3.7/site-packages/googletrans/gtoken.py\u001b[0m in \u001b[0;36mdo\u001b[0;34m(self, text)\u001b[0m\n\u001b[1;32m    192\u001b[0m \u001b[0;34m\u001b[0m\u001b[0m\n\u001b[1;32m    193\u001b[0m     \u001b[0;32mdef\u001b[0m \u001b[0mdo\u001b[0m\u001b[0;34m(\u001b[0m\u001b[0mself\u001b[0m\u001b[0;34m,\u001b[0m \u001b[0mtext\u001b[0m\u001b[0;34m)\u001b[0m\u001b[0;34m:\u001b[0m\u001b[0;34m\u001b[0m\u001b[0;34m\u001b[0m\u001b[0m\n\u001b[0;32m--> 194\u001b[0;31m         \u001b[0mself\u001b[0m\u001b[0;34m.\u001b[0m\u001b[0m_update\u001b[0m\u001b[0;34m(\u001b[0m\u001b[0;34m)\u001b[0m\u001b[0;34m\u001b[0m\u001b[0;34m\u001b[0m\u001b[0m\n\u001b[0m\u001b[1;32m    195\u001b[0m         \u001b[0mtk\u001b[0m \u001b[0;34m=\u001b[0m \u001b[0mself\u001b[0m\u001b[0;34m.\u001b[0m\u001b[0macquire\u001b[0m\u001b[0;34m(\u001b[0m\u001b[0mtext\u001b[0m\u001b[0;34m)\u001b[0m\u001b[0;34m\u001b[0m\u001b[0;34m\u001b[0m\u001b[0m\n\u001b[1;32m    196\u001b[0m         \u001b[0;32mreturn\u001b[0m \u001b[0mtk\u001b[0m\u001b[0;34m\u001b[0m\u001b[0;34m\u001b[0m\u001b[0m\n",
      "\u001b[0;32m~/opt/anaconda3/lib/python3.7/site-packages/googletrans/gtoken.py\u001b[0m in \u001b[0;36m_update\u001b[0;34m(self)\u001b[0m\n\u001b[1;32m     60\u001b[0m \u001b[0;34m\u001b[0m\u001b[0m\n\u001b[1;32m     61\u001b[0m         \u001b[0;31m# this will be the same as python code after stripping out a reserved word 'var'\u001b[0m\u001b[0;34m\u001b[0m\u001b[0;34m\u001b[0m\u001b[0;34m\u001b[0m\u001b[0m\n\u001b[0;32m---> 62\u001b[0;31m         \u001b[0mcode\u001b[0m \u001b[0;34m=\u001b[0m \u001b[0mself\u001b[0m\u001b[0;34m.\u001b[0m\u001b[0mRE_TKK\u001b[0m\u001b[0;34m.\u001b[0m\u001b[0msearch\u001b[0m\u001b[0;34m(\u001b[0m\u001b[0mr\u001b[0m\u001b[0;34m.\u001b[0m\u001b[0mtext\u001b[0m\u001b[0;34m)\u001b[0m\u001b[0;34m.\u001b[0m\u001b[0mgroup\u001b[0m\u001b[0;34m(\u001b[0m\u001b[0;36m1\u001b[0m\u001b[0;34m)\u001b[0m\u001b[0;34m.\u001b[0m\u001b[0mreplace\u001b[0m\u001b[0;34m(\u001b[0m\u001b[0;34m'var '\u001b[0m\u001b[0;34m,\u001b[0m \u001b[0;34m''\u001b[0m\u001b[0;34m)\u001b[0m\u001b[0;34m\u001b[0m\u001b[0;34m\u001b[0m\u001b[0m\n\u001b[0m\u001b[1;32m     63\u001b[0m         \u001b[0;31m# unescape special ascii characters such like a \\x3d(=)\u001b[0m\u001b[0;34m\u001b[0m\u001b[0;34m\u001b[0m\u001b[0;34m\u001b[0m\u001b[0m\n\u001b[1;32m     64\u001b[0m         \u001b[0mcode\u001b[0m \u001b[0;34m=\u001b[0m \u001b[0mcode\u001b[0m\u001b[0;34m.\u001b[0m\u001b[0mencode\u001b[0m\u001b[0;34m(\u001b[0m\u001b[0;34m)\u001b[0m\u001b[0;34m.\u001b[0m\u001b[0mdecode\u001b[0m\u001b[0;34m(\u001b[0m\u001b[0;34m'unicode-escape'\u001b[0m\u001b[0;34m)\u001b[0m\u001b[0;34m\u001b[0m\u001b[0;34m\u001b[0m\u001b[0m\n",
      "\u001b[0;31mAttributeError\u001b[0m: 'NoneType' object has no attribute 'group'"
     ]
    }
   ],
   "source": [
    "# translating tweets\n",
    "translator = Translator()\n",
    "\n",
    "for i in twts.keys():\n",
    "    print(translator.translate(twts[1]))\n",
    "#     de_eng_twts[i] = translator.translate(twts[i])\n",
    "#     print(de_eng_twts[i])"
   ]
  },
  {
   "cell_type": "code",
   "execution_count": null,
   "metadata": {},
   "outputs": [],
   "source": []
  }
 ],
 "metadata": {
  "kernelspec": {
   "display_name": "Python 3",
   "language": "python",
   "name": "python3"
  },
  "language_info": {
   "codemirror_mode": {
    "name": "ipython",
    "version": 3
   },
   "file_extension": ".py",
   "mimetype": "text/x-python",
   "name": "python",
   "nbconvert_exporter": "python",
   "pygments_lexer": "ipython3",
   "version": "3.7.6"
  },
  "vscode": {
   "interpreter": {
    "hash": "a4436d34933c0f0d924574171fb2515da0d8c40e2ab512a308663dc971b32ce7"
   }
  }
 },
 "nbformat": 4,
 "nbformat_minor": 4
}
